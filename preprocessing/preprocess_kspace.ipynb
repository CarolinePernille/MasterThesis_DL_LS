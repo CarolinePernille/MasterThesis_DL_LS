{
 "cells": [
  {
   "cell_type": "code",
   "execution_count": null,
   "metadata": {},
   "outputs": [],
   "source": [
    "import h5py\n",
    "import numpy as np\n",
    "import os"
   ]
  },
  {
   "cell_type": "markdown",
   "metadata": {},
   "source": [
    "### Preprocessing k-space data\n",
    "\n",
    "The raw non-Cartesian k-space data was gridded onto a Cartesian grid using a MATLAB-script. In this notebook, the gridded k-space data gets preprocessed, which includes reconstruction to image space, cropping, and transformation back to k-space, in addition to coil combination. The data is structured as [coils, t, H, W, D]. Due to memory limitations, each temporal slice was processed individually, before being concatted into the final 4D volume."
   ]
  },
  {
   "cell_type": "code",
   "execution_count": null,
   "metadata": {},
   "outputs": [],
   "source": [
    "def load_data(path):\n",
    "    \"\"\"\n",
    "    Load gridded k-space data from a MATLAB .mat file (version 7.3, HDF5 format).\n",
    "\n",
    "    Parameters:\n",
    "    - path: Path to the .mat file.\n",
    "\n",
    "    Returns:\n",
    "    - data: Loaded k-space data as a NumPy array.\n",
    "    \"\"\"\n",
    "    with h5py.File(path, 'r') as f:\n",
    "        data = np.array(f['CK'])\n",
    "    return data"
   ]
  },
  {
   "cell_type": "markdown",
   "metadata": {},
   "source": [
    "#### Reconstructing to image space"
   ]
  },
  {
   "cell_type": "code",
   "execution_count": null,
   "metadata": {},
   "outputs": [],
   "source": [
    "def reconstruct(kspace_data, preprocess = False):\n",
    "    \"\"\" \n",
    "    Reconstruct image space data from k-space using an inverse Fourier transform.\n",
    "\n",
    "    Parameters:\n",
    "    - kspace_data: input k-space data\n",
    "    - preprocess: Boolean value whether to combine the real and imaginary parts into complex k-space data\n",
    "\n",
    "    Return:\n",
    "    - image: image space of k-space data\n",
    "    \"\"\"\n",
    "    \n",
    "    if preprocess:\n",
    "        kspace_data = np.squeeze(kspace_data)\n",
    "        kspace_data = kspace_data['real'] + 1j* kspace_data['imag']\n",
    "        \n",
    "\n",
    "    image = np.fft.ifftn(kspace_data, axes=(-3,-2,-1))\n",
    "    image = np.fft.ifftshift(image, axes=(-3,-2,-1))\n",
    "    \n",
    "    return image"
   ]
  },
  {
   "cell_type": "markdown",
   "metadata": {},
   "source": [
    "#### Coil combination"
   ]
  },
  {
   "cell_type": "code",
   "execution_count": null,
   "metadata": {},
   "outputs": [],
   "source": [
    "def coil_combine(image_data):\n",
    "    \"\"\" \n",
    "    Combining coils by root of sum squared (RSS). Input shape: (coils, x, y, z)\n",
    "\n",
    "    Input:\n",
    "    - image_data: image data\n",
    "\n",
    "    Return:\n",
    "    - combined_colis: a Numpy array with combined coils.\n",
    "    \"\"\"\n",
    "    real_rss = np.sqrt(np.sum(np.real(image_data)**2, axis=0))\n",
    "    imag_rss = np.sqrt(np.sum(np.imag(image_data)**2, axis=0))\n",
    "    combined_coils = np.stack([real_rss, imag_rss], axis = 0)\n",
    "    return combined_coils"
   ]
  },
  {
   "cell_type": "markdown",
   "metadata": {},
   "source": [
    "#### Cropping in image space\n",
    "\n",
    "In order to resize the matrix size, the k-space data was transformed to image space, where the image was cropped to match the ground truth size."
   ]
  },
  {
   "cell_type": "code",
   "execution_count": null,
   "metadata": {},
   "outputs": [],
   "source": [
    "def crop_image_space(image_data, target_size=(128,128,128)):\n",
    "    \"\"\" \n",
    "    Center-crop image to the specified target size.\n",
    "\n",
    "    Parameters:\n",
    "    - image_data: Input image array with shape (..., H, W, D).\n",
    "    - target_size: Target size after cropping. Default is (128, 128, 128)\n",
    "\n",
    "    Returns:\n",
    "    - cropped_image: Cropped image with shape (..., crop_H, crop_W, crop_D).\n",
    "    \"\"\"\n",
    "\n",
    "    H, W, D = image_data.shape[-3:]   # height, width, depth\n",
    "    print(f\"Shape inside crop function: {image_data.shape}\")\n",
    "    crop_H, crop_W, crop_D = target_size\n",
    "    start_H = (H-crop_H) // 2\n",
    "    start_W = (W-crop_W) // 2\n",
    "    start_D = (D-crop_D) // 2\n",
    "\n",
    "    cropped_image = image_data[..., start_H:start_H+crop_H, start_W:start_W+crop_W, start_D:start_D+crop_D]\n",
    "\n",
    "    return cropped_image"
   ]
  },
  {
   "cell_type": "code",
   "execution_count": null,
   "metadata": {},
   "outputs": [],
   "source": [
    "def back_to_kspace(cropped_img):\n",
    "    \"\"\" \n",
    "    Convert a cropped image back to k-space using a 3D Fourier transform.\n",
    "    \n",
    "    Parameters:\n",
    "    - cropped_img: Image after cropping\n",
    "\n",
    "    Return:\n",
    "    - k_space: Corresponding k-space data after FFT.\n",
    "    \"\"\"\n",
    "    k_space = np.fft.fftshift(cropped_img, axes=(-3,-2,-1))\n",
    "    k_space = np.fft.fftn(k_space, axes=(-3,-2,-1))\n",
    "    return k_space"
   ]
  },
  {
   "cell_type": "markdown",
   "metadata": {},
   "source": [
    "#### Processing of k-space\n",
    "\n",
    "Combining all the above functions in correct order."
   ]
  },
  {
   "cell_type": "code",
   "execution_count": null,
   "metadata": {},
   "outputs": [],
   "source": [
    "def process_kspace(data):\n",
    "    \"\"\" \n",
    "    Perform all necessary processing steps on k-space data, including reconstruction, \n",
    "    coil combination, cropping, and transformation back to k-space.\n",
    "\n",
    "    Parameters: \n",
    "    - data: Loaded k-space data\n",
    "\n",
    "    Return:\n",
    "    - k_space: Processed k-space data after all steps.\n",
    "    \n",
    "    \"\"\"\n",
    "    print(f\"Shape before processing: {data.shape}\") \n",
    "\n",
    "    # Reconstruct each coil and combine them\n",
    "    coil_recon = [reconstruct(data[coil,:,:,:,:,:], preprocess=True) for coil in range(data.shape[0])]\n",
    "    coil_recon = coil_combine(coil_recon)\n",
    "\n",
    "    print(f\"Shape before cropping: {coil_recon.shape}\")\n",
    "\n",
    "    # Crop the combined coil image to the target size\n",
    "    cropped_img = crop_image_space(coil_recon, target_size=(128,128,128))\n",
    "    print(f\"Shape after cropping: {cropped_img.shape}\")\n",
    "\n",
    "    # Convert the cropped image back to k-space\n",
    "    k_space = back_to_kspace(cropped_img)\n",
    "    print(k_space.dtype) # Ensuring the data remains complex after the Fourier transform.\n",
    "\n",
    "    return k_space"
   ]
  },
  {
   "cell_type": "code",
   "execution_count": null,
   "metadata": {},
   "outputs": [],
   "source": [
    "def save_processed_kspace(processed_data, output_dir, filename):\n",
    "    \"\"\" \n",
    "    Save the processed k-space data to a specified directory.\n",
    "\n",
    "    Parameters: \n",
    "    - processed_data: The processed k-space data from process_kspace()\n",
    "    - output_dir: Directory where the processed k-space data will be saved.\n",
    "    - filename: The filename for the saved data.\n",
    "\n",
    "    Returns:\n",
    "    - None: This function saves the file and prints a confirmation message.\n",
    "    \"\"\"\n",
    "\n",
    "    output_path = os.path.join(output_dir, f'processed_{filename}')\n",
    "    np.save(output_path, processed_data)\n",
    "    print(f'Saved processed data to {output_path}')\n"
   ]
  },
  {
   "cell_type": "markdown",
   "metadata": {},
   "source": [
    "#### Processing and saving\n",
    "\n",
    "Each participant was processed individually. The function below processes the k-space data and saves the individual time slices in the correct folder."
   ]
  },
  {
   "cell_type": "code",
   "execution_count": null,
   "metadata": {},
   "outputs": [],
   "source": [
    "def process_and_save(data_dir, output_dir):\n",
    "    \"\"\" \n",
    "    Process all k-space data files in a directory and save the processed k-space.\n",
    "\n",
    "    Parameters:\n",
    "    - data_dir: Path to the directory containing gridded k-space data files.\n",
    "    - output_dir: Path to the directory where processed k-space data will be saved.\n",
    "\n",
    "    Returns:\n",
    "    - None: This function processes and saves each file in the input directory.\n",
    "    \"\"\"\n",
    "\n",
    "    # List and sort all files in the data directory\n",
    "    file_list = sorted(os.listdir(data_dir))\n",
    "\n",
    "    for file in file_list:\n",
    "        full_path = os.path.join(data_dir, file)\n",
    "        # Load the data\n",
    "        current_data = load_data(full_path)\n",
    "        print(f'Processing {file} with shape {current_data.shape}')\n",
    "\n",
    "        # Process the data\n",
    "        processed_kspace = process_kspace(current_data)\n",
    "        print(f'Done processing {file} with shape {processed_kspace.shape}')\n",
    "\n",
    "        # Save the processed k-space\n",
    "        save_processed_kspace(processed_kspace, output_dir, file[:-4])\n",
    "\n",
    "        # Clean up to free memory \n",
    "        del processed_kspace"
   ]
  },
  {
   "cell_type": "markdown",
   "metadata": {},
   "source": [
    "#### Assembling into 4D data"
   ]
  },
  {
   "cell_type": "code",
   "execution_count": null,
   "metadata": {},
   "outputs": [],
   "source": [
    "def concat_processed(data_dir, output_dir, filename):\n",
    "    \"\"\" \n",
    "    Assemble processed 3D k-space timepoints into a single 4D k-space volume\n",
    "\n",
    "    Parameters:\n",
    "    - data_dir: Path to the directory containing processed k-space data files.\n",
    "    - output_dir: Path to the directory where assembled k-space data will be saved.\n",
    "    - filename: The filename for the saved data.\n",
    "    \n",
    "    Returns:\n",
    "    - None\n",
    "    \"\"\"\n",
    "\n",
    "    # List and sort all files in the data directory\n",
    "    file_list = sorted(os.listdir(data_dir))\n",
    "\n",
    "    data_list = []\n",
    "\n",
    "    for file in file_list:\n",
    "        full_path = os.path.join(data_dir, file)\n",
    "\n",
    "        processed_data = np.load(full_path)\n",
    "\n",
    "        print(f'Loaded file {file} with shape {processed_data.shape}')\n",
    "\n",
    "        data_list.append(processed_data)\n",
    "\n",
    "    # Concatenate along time axis\n",
    "    concatenated_data = np.concatenate(data_list, axis=1)\n",
    "\n",
    "    output_filename = os.path.join(output_dir, filename)\n",
    "    np.save(output_filename, concatenated_data)\n",
    "\n",
    "    # Clean up memory\n",
    "    data_list.clear()\n",
    "    del data_list\n",
    "    del concatenated_data\n"
   ]
  },
  {
   "cell_type": "markdown",
   "metadata": {},
   "source": [
    "### Preprocessing and saving all files\n",
    "\n",
    "Each time point is processed independantly before being assembled into a 4D volume."
   ]
  },
  {
   "cell_type": "code",
   "execution_count": null,
   "metadata": {},
   "outputs": [],
   "source": [
    "for participant_no in range(first_participant, last_participant):\n",
    "    folder_dir = f'./matlabcode/gridded_data/0{participant_no}'\n",
    "    output_dir = f'../data/KSPACE/k-space/preprocessing/0{participant_no}'\n",
    "\n",
    "    process_and_save(folder_dir, output_dir)\n",
    "\n",
    "    save_dir = f'../data/KSPACE/k-space/preprocessing/final_data'\n",
    "\n",
    "    concat_processed(output_dir, save_dir, f\"CK_0{participant_no}.npy\")"
   ]
  }
 ],
 "metadata": {
  "kernelspec": {
   "display_name": "Master_Caroline",
   "language": "python",
   "name": "python3"
  },
  "language_info": {
   "codemirror_mode": {
    "name": "ipython",
    "version": 3
   },
   "file_extension": ".py",
   "mimetype": "text/x-python",
   "name": "python",
   "nbconvert_exporter": "python",
   "pygments_lexer": "ipython3",
   "version": "3.11.10"
  }
 },
 "nbformat": 4,
 "nbformat_minor": 2
}
