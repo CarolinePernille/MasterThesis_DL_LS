{
 "cells": [
  {
   "cell_type": "code",
   "execution_count": null,
   "id": "8ae257b6",
   "metadata": {},
   "outputs": [],
   "source": [
    "import matplotlib.pyplot as plt\n",
    "import torch\n",
    "from torch.utils.data import DataLoader\n",
    "import numpy as np\n",
    "import os\n",
    "import nibabel as nib\n",
    "\n",
    "# 4D-UNet model\n",
    "from models import UNet4D \n",
    "\n",
    "from train_utils import predictions, CreateDataset"
   ]
  },
  {
   "cell_type": "code",
   "execution_count": 2,
   "id": "80077b1b",
   "metadata": {},
   "outputs": [
    {
     "name": "stdout",
     "output_type": "stream",
     "text": [
      "Device: cuda\n"
     ]
    }
   ],
   "source": [
    "device = torch.device('cuda' if torch.cuda.is_available() else 'cpu')\n",
    "print(f'Device: {device}')\n",
    "\n",
    "torch.set_default_dtype(torch.float32) "
   ]
  },
  {
   "cell_type": "code",
   "execution_count": 3,
   "id": "3e950334",
   "metadata": {},
   "outputs": [],
   "source": [
    "def set_seed(seed=42):\n",
    "    np.random.seed(seed)\n",
    "    torch.manual_seed(seed)\n",
    "    torch.cuda.manual_seed(seed)\n",
    "\n",
    "set_seed(42)"
   ]
  },
  {
   "cell_type": "markdown",
   "id": "d0975534",
   "metadata": {},
   "source": [
    "### Loading test data"
   ]
  },
  {
   "cell_type": "code",
   "execution_count": null,
   "id": "718d061c",
   "metadata": {},
   "outputs": [],
   "source": [
    "X_test_path = '../preprocessed_4d/ls_test'\n",
    "y_test_path = '../preprocessed_4d/epi_test'"
   ]
  },
  {
   "cell_type": "code",
   "execution_count": 15,
   "id": "f32cade1",
   "metadata": {},
   "outputs": [
    {
     "name": "stderr",
     "output_type": "stream",
     "text": [
      "C:\\Users\\Caroline\\AppData\\Local\\Temp\\ipykernel_12900\\101806639.py:2: FutureWarning: You are using `torch.load` with `weights_only=False` (the current default value), which uses the default pickle module implicitly. It is possible to construct malicious pickle data which will execute arbitrary code during unpickling (See https://github.com/pytorch/pytorch/blob/main/SECURITY.md#untrusted-models for more details). In a future release, the default value for `weights_only` will be flipped to `True`. This limits the functions that could be executed during unpickling. Arbitrary objects will no longer be allowed to be loaded via this mode unless they are explicitly allowlisted by the user via `torch.serialization.add_safe_globals`. We recommend you start setting `weights_only=True` for any use case where you don't have full control of the loaded file. Please open an issue on GitHub for any issues related to this experimental feature.\n",
      "  X_test = [torch.load(os.path.join(X_test_path, f)) for f in X_test_files]\n"
     ]
    }
   ],
   "source": [
    "X_test_files = [f for f in os.listdir(X_test_path) if f.endswith('.pt')]\n",
    "X_test = [torch.load(os.path.join(X_test_path, f)) for f in X_test_files]"
   ]
  },
  {
   "cell_type": "code",
   "execution_count": 16,
   "id": "a0e3e0a1",
   "metadata": {},
   "outputs": [
    {
     "name": "stderr",
     "output_type": "stream",
     "text": [
      "C:\\Users\\Caroline\\AppData\\Local\\Temp\\ipykernel_12900\\4135945730.py:2: FutureWarning: You are using `torch.load` with `weights_only=False` (the current default value), which uses the default pickle module implicitly. It is possible to construct malicious pickle data which will execute arbitrary code during unpickling (See https://github.com/pytorch/pytorch/blob/main/SECURITY.md#untrusted-models for more details). In a future release, the default value for `weights_only` will be flipped to `True`. This limits the functions that could be executed during unpickling. Arbitrary objects will no longer be allowed to be loaded via this mode unless they are explicitly allowlisted by the user via `torch.serialization.add_safe_globals`. We recommend you start setting `weights_only=True` for any use case where you don't have full control of the loaded file. Please open an issue on GitHub for any issues related to this experimental feature.\n",
      "  y_test = [torch.load(os.path.join(y_test_path, f)) for f in y_test_files]\n"
     ]
    }
   ],
   "source": [
    "y_test_files = [f for f in os.listdir(y_test_path) if f.endswith('.pt')]\n",
    "y_test = [torch.load(os.path.join(y_test_path, f)) for f in y_test_files]"
   ]
  },
  {
   "cell_type": "markdown",
   "id": "60c70956",
   "metadata": {},
   "source": [
    "### Loading the best model\n",
    "\n",
    "In order to determine the generalizability, the best performing model is loaded and evaluated on the test data, which is previosly unseen for the model."
   ]
  },
  {
   "cell_type": "code",
   "execution_count": null,
   "id": "1f8cbb10",
   "metadata": {},
   "outputs": [
    {
     "name": "stderr",
     "output_type": "stream",
     "text": [
      "C:\\Users\\Caroline\\AppData\\Local\\Temp\\ipykernel_12900\\2723243801.py:7: FutureWarning: You are using `torch.load` with `weights_only=False` (the current default value), which uses the default pickle module implicitly. It is possible to construct malicious pickle data which will execute arbitrary code during unpickling (See https://github.com/pytorch/pytorch/blob/main/SECURITY.md#untrusted-models for more details). In a future release, the default value for `weights_only` will be flipped to `True`. This limits the functions that could be executed during unpickling. Arbitrary objects will no longer be allowed to be loaded via this mode unless they are explicitly allowlisted by the user via `torch.serialization.add_safe_globals`. We recommend you start setting `weights_only=True` for any use case where you don't have full control of the loaded file. Please open an issue on GitHub for any issues related to this experimental feature.\n",
      "  checkpoint_MSE = torch.load('../../4D_models/4D_model_weights/MSE_lr5e-5/weights_model_lr5e-05_epoch30.pth', map_location=device)\n"
     ]
    }
   ],
   "source": [
    "test_dataset = CreateDataset(X_test, y_test)\n",
    "\n",
    "best_MSE_model = UNet4D()\n",
    "\n",
    "\n",
    "checkpoint_MSE = torch.load('./4D_model_weights/MSE_lr5e-5/weights_model_lr5e-05_epoch30.pth', map_location=device)\n",
    "best_MSE_model.load_state_dict(checkpoint_MSE['model_state_dict'])\n",
    "\n",
    "best_MSE_model.eval()\n",
    "\n",
    "best_MSE_model.to(device=device)\n",
    "set_seed(42)\n",
    "batch_size = 1\n",
    "test_loader = DataLoader(test_dataset, batch_size=batch_size, shuffle=True, generator=torch.Generator().manual_seed(42))\n",
    "preds, true = predictions(best_MSE_model, test_loader)\n",
    "\n",
    "preds_cpu = preds[0].cpu()\n",
    "true_cpu = true[0].cpu()\n",
    "preds0= preds_cpu.squeeze(0,1)\n",
    "true0= true_cpu.squeeze(0,1)"
   ]
  },
  {
   "cell_type": "markdown",
   "id": "9c259114",
   "metadata": {},
   "source": [
    "### tSNR calculation\n",
    "\n",
    "A common evaluation metric is signal-to-noise ratio (SNR), which measures the amount of background noise in comparison to the signal intensity. As the data is 4D, temporal SNR (tSNR) is calculated. SNR is calculated by taking the mean value of a region of interest (ROI) in the brain, dividing it on the standatd deviation of an ROI in the background.\n",
    "\n",
    "The ROI positions were determined by visualization of the 4D volumes. For EPI and reconstructed LS the positions are the same, but due to head position, the ROI positions were shifted for the original LS volumes."
   ]
  },
  {
   "cell_type": "code",
   "execution_count": null,
   "id": "b80b35bc",
   "metadata": {},
   "outputs": [],
   "source": [
    "def calc_SNR(image, image_type):\n",
    "    \"\"\" \n",
    "    Calculation tSNR for three types of images. \n",
    "\n",
    "    Parameters:\n",
    "    - image: 4D volume to calculate tSNR on.\n",
    "    - image_type: Type of image to calculate tSNR on. The ROI will be defined differently depending on the image and position of the brain.\n",
    "\n",
    "    Returns:\n",
    "    - snr: The computed tSNR.\n",
    "\n",
    "    Notes: The ROI positionts were determined by visalization of both the images and the selected ROIs.\n",
    "    \"\"\"\n",
    "    \n",
    "    if image_type == 'EPI':\n",
    "        ROI_image = image[:,25:30,25:30,25:30]\n",
    "        ROI_noise =  image[:,9:14,15:20,30:35] \n",
    "        \n",
    "    elif image_type == 'Recon':\n",
    "        ROI_image = image[:,25:30,25:30,25:30]\n",
    "        ROI_noise = image[:,5:10,15:20,30:35] \n",
    "\n",
    "    elif image_type == 'LS':\n",
    "        ROI_image =  image[:,25:30,25:30,35:40]\n",
    "        ROI_noise = image[:,3:8,11:16,30:35]\n",
    "    \n",
    "    mean_signal = torch.mean(ROI_image)\n",
    "    std_signal = torch.std(ROI_noise)\n",
    "\n",
    "    print(mean_signal, std_signal)\n",
    "\n",
    "    snr = mean_signal/(std_signal+1e-6) # Adding a small number to avoid division by zero\n",
    "\n",
    "    return snr"
   ]
  },
  {
   "cell_type": "markdown",
   "id": "42e5f9cc",
   "metadata": {},
   "source": [
    "### tSNR of EPI"
   ]
  },
  {
   "cell_type": "code",
   "execution_count": 145,
   "id": "1e47878b",
   "metadata": {},
   "outputs": [
    {
     "name": "stdout",
     "output_type": "stream",
     "text": [
      "tensor(0.3794) tensor(0.0016)\n"
     ]
    },
    {
     "data": {
      "text/plain": [
       "tensor(229.9294)"
      ]
     },
     "execution_count": 145,
     "metadata": {},
     "output_type": "execute_result"
    }
   ],
   "source": [
    "calc_SNR(image=true0, image_type='EPI')"
   ]
  },
  {
   "cell_type": "markdown",
   "id": "ab9f6278",
   "metadata": {},
   "source": [
    "### tSNR of predictions"
   ]
  },
  {
   "cell_type": "code",
   "execution_count": 147,
   "id": "9db2f4b9",
   "metadata": {},
   "outputs": [
    {
     "name": "stdout",
     "output_type": "stream",
     "text": [
      "tensor(0.3864) tensor(0.0086)\n"
     ]
    },
    {
     "data": {
      "text/plain": [
       "tensor(45.1855)"
      ]
     },
     "execution_count": 147,
     "metadata": {},
     "output_type": "execute_result"
    }
   ],
   "source": [
    "calc_SNR(image=preds0, image_type='Recon')"
   ]
  },
  {
   "cell_type": "markdown",
   "id": "bdf23b02",
   "metadata": {},
   "source": [
    "### Loading original LS data\n",
    "\n",
    "In order of comparison, the tSNR was also calculated for the original LS volume, using the same participant as was used as test data. "
   ]
  },
  {
   "cell_type": "code",
   "execution_count": null,
   "id": "a16e5f2e",
   "metadata": {},
   "outputs": [],
   "source": [
    "orig_LS_path = 'Insert path'\n",
    "\n",
    "orig_LS_img = nib.load(orig_LS_path).get_fdata()"
   ]
  },
  {
   "cell_type": "code",
   "execution_count": null,
   "id": "6fde9ab7",
   "metadata": {},
   "outputs": [],
   "source": [
    "# Extracting the same temporal slices as used for the other calculations\n",
    "orig_LS_img = orig_LS_img[:,:,:,120:172] \n",
    "orig_LS_img = torch.tensor(orig_LS_img, dtype=torch.float32)\n",
    "\n",
    "# Reshaping the data to ensure the same shape as the other two volumes\n",
    "orig_LS_img = orig_LS_img.permute(3,0,1,2) "
   ]
  },
  {
   "cell_type": "code",
   "execution_count": null,
   "id": "3c1efea0",
   "metadata": {},
   "outputs": [
    {
     "data": {
      "text/plain": [
       "torch.Size([52, 64, 64, 64])"
      ]
     },
     "execution_count": 8,
     "metadata": {},
     "output_type": "execute_result"
    }
   ],
   "source": [
    "# Checking that the LS volumes have the same shape as the other data\n",
    "orig_LS_img.shape"
   ]
  },
  {
   "cell_type": "markdown",
   "id": "86c6b4e9",
   "metadata": {},
   "source": [
    "### tSNR of original LS"
   ]
  },
  {
   "cell_type": "code",
   "execution_count": 9,
   "id": "f6dc0807",
   "metadata": {},
   "outputs": [
    {
     "name": "stdout",
     "output_type": "stream",
     "text": [
      "tensor(5034.2314) tensor(275.6186)\n"
     ]
    },
    {
     "data": {
      "text/plain": [
       "tensor(18.2652)"
      ]
     },
     "execution_count": 9,
     "metadata": {},
     "output_type": "execute_result"
    }
   ],
   "source": [
    "calc_SNR(image=orig_LS_img, image_type='LS')"
   ]
  },
  {
   "cell_type": "markdown",
   "id": "173e246e",
   "metadata": {},
   "source": [
    "### Plotting SNR over time\n",
    "\n",
    "To see the variations in SNR over time, the code calc_SNR was modified to also return a list of all SNR values in the 4D volume."
   ]
  },
  {
   "cell_type": "code",
   "execution_count": null,
   "id": "bf32f84f",
   "metadata": {},
   "outputs": [],
   "source": [
    "def plot_SNR(image, image_type):\n",
    "    \"\"\" \n",
    "    Calculation SNR for each time point for three types of images. \n",
    "\n",
    "    Parameters:\n",
    "    - image: 4D volume to calculate tSNR on.\n",
    "    - image_type: Type of image to calculate tSNR on. The ROI will be defined differently depending on the image and position of the brain.\n",
    "\n",
    "    Returns:\n",
    "    - snr: A list containing the computed SNR for each time point in the 4D volume.\n",
    "    \"\"\"\n",
    "    \n",
    "    if image_type == 'EPI':\n",
    "        ROI_image = image[:,25:30,25:30,25:30]\n",
    "        ROI_noise =  image[:,9:14,15:20,30:35] \n",
    "\n",
    "    elif image_type == 'Recon':\n",
    "        ROI_image = image[:,25:30,25:30,25:30]\n",
    "        ROI_noise = image[:,5:10,15:20,30:35] \n",
    "\n",
    "    elif image_type == 'LS':\n",
    "        ROI_image =  image[:,25:30,25:30,35:40]\n",
    "        ROI_noise = image[:,3:8,11:16,30:35]\n",
    "\n",
    "    all_snrs = []\n",
    "    \n",
    "    for i in range(image.shape[0]):\n",
    "        mean_signal = torch.mean(ROI_image[i])\n",
    "        std_signal = torch.std(ROI_noise[i])\n",
    "\n",
    "        snr = mean_signal/(std_signal+1e-6)\n",
    "        all_snrs.append(snr)\n",
    "    \n",
    "    return all_snrs"
   ]
  },
  {
   "cell_type": "code",
   "execution_count": 21,
   "id": "9e791444",
   "metadata": {},
   "outputs": [],
   "source": [
    "epi_snr = plot_SNR(image=true0, image_type='EPI')\n",
    "recon_snr = plot_SNR(image=preds0, image_type='Recon')\n",
    "ls_snr = plot_SNR(image=orig_LS_img, image_type='LS')"
   ]
  },
  {
   "cell_type": "code",
   "execution_count": null,
   "id": "92560aa5",
   "metadata": {},
   "outputs": [
    {
     "data": {
      "image/png": "[encoded data removed]",
      "text/plain": [
       "<Figure size 640x480 with 1 Axes>"
      ]
     },
     "metadata": {},
     "output_type": "display_data"
    }
   ],
   "source": [
    "x_values = [i for i in range(true0.shape[0])] # x values for plotting purposes\n",
    "\n",
    "plt.plot(x_values, epi_snr, label = 'EPI', color = 'yellowgreen')\n",
    "plt.plot(x_values, recon_snr, label = 'Reconstructed LS', color='royalblue')\n",
    "plt.plot(x_values, ls_snr, label = 'Original LS', color = 'seagreen')\n",
    "plt.legend(bbox_to_anchor =(1.02,1))\n",
    "plt.title('SNR over time')\n",
    "plt.xlabel('Time point')\n",
    "plt.ylabel('SNR')\n",
    "plt.show()"
   ]
  }
 ],
 "metadata": {
  "kernelspec": {
   "display_name": "Master_Caroline",
   "language": "python",
   "name": "python3"
  },
  "language_info": {
   "codemirror_mode": {
    "name": "ipython",
    "version": 3
   },
   "file_extension": ".py",
   "mimetype": "text/x-python",
   "name": "python",
   "nbconvert_exporter": "python",
   "pygments_lexer": "ipython3",
   "version": "3.11.10"
  }
 },
 "nbformat": 4,
 "nbformat_minor": 5
}
